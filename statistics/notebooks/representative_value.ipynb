{
 "cells": [
  {
   "cell_type": "code",
   "execution_count": 1,
   "metadata": {},
   "outputs": [],
   "source": [
    "import numpy as np"
   ]
  },
  {
   "cell_type": "code",
   "execution_count": 2,
   "metadata": {},
   "outputs": [],
   "source": [
    "np.random.seed(0)"
   ]
  },
  {
   "cell_type": "code",
   "execution_count": 3,
   "metadata": {},
   "outputs": [],
   "source": [
    "scores = np.random.randint(0, 101, 100)"
   ]
  },
  {
   "cell_type": "code",
   "execution_count": 4,
   "metadata": {},
   "outputs": [
    {
     "data": {
      "text/plain": [
       "array([ 44,  47,  64,  67,  67,   9,  83,  21,  36,  87,  70,  88,  88,\n",
       "        12,  58,  65,  39,  87,  46,  88,  81,  37,  25,  77,  72,   9,\n",
       "        20,  80,  69,  79,  47,  64,  82,  99,  88,  49,  29,  19,  19,\n",
       "        14,  39,  32,  65,   9,  57,  32,  31,  74,  23,  35,  75,  55,\n",
       "        28,  34,   0,   0,  36,  53,   5,  38,  17,  79,   4,  42,  58,\n",
       "        31,   1,  65,  41,  57,  35,  11,  46,  82,  91,   0,  14,  99,\n",
       "        53,  12,  42,  84,  75,  68,   6,  68,  47,   3,  76, 100,  52,\n",
       "        78,  15,  20,  99,  58,  23,  79,  13,  85])"
      ]
     },
     "execution_count": 4,
     "metadata": {},
     "output_type": "execute_result"
    }
   ],
   "source": [
    "scores"
   ]
  },
  {
   "cell_type": "code",
   "execution_count": 5,
   "metadata": {},
   "outputs": [
    {
     "data": {
      "text/plain": [
       "48.75"
      ]
     },
     "execution_count": 5,
     "metadata": {},
     "output_type": "execute_result"
    }
   ],
   "source": [
    "scores.mean()"
   ]
  },
  {
   "cell_type": "code",
   "execution_count": 6,
   "metadata": {},
   "outputs": [
    {
     "data": {
      "text/plain": [
       "823.4675"
      ]
     },
     "execution_count": 6,
     "metadata": {},
     "output_type": "execute_result"
    }
   ],
   "source": [
    "scores.var()"
   ]
  },
  {
   "cell_type": "code",
   "execution_count": 7,
   "metadata": {},
   "outputs": [
    {
     "data": {
      "text/plain": [
       "28.696123431571728"
      ]
     },
     "execution_count": 7,
     "metadata": {},
     "output_type": "execute_result"
    }
   ],
   "source": [
    "scores.std()"
   ]
  },
  {
   "cell_type": "code",
   "execution_count": 8,
   "metadata": {},
   "outputs": [
    {
     "data": {
      "text/plain": [
       "47.0"
      ]
     },
     "execution_count": 8,
     "metadata": {},
     "output_type": "execute_result"
    }
   ],
   "source": [
    "np.median(scores)"
   ]
  },
  {
   "cell_type": "code",
   "execution_count": 9,
   "metadata": {},
   "outputs": [
    {
     "data": {
      "text/plain": [
       "array([48.34472415, 49.39016153, 55.31430666, 56.35974404, 56.35974404,\n",
       "       36.14795476, 61.93541005, 40.32970427, 45.55689115, 63.32932655,\n",
       "       57.40518142, 63.67780568, 63.67780568, 37.19339214, 53.22343191,\n",
       "       55.66278579, 46.60232853, 63.32932655, 49.0416824 , 63.67780568,\n",
       "       61.2384518 , 45.90537027, 41.72362077, 59.8445353 , 58.10213967,\n",
       "       36.14795476, 39.98122514, 60.88997267, 57.05670229, 60.54149355,\n",
       "       49.39016153, 55.31430666, 61.58693092, 67.51107606, 63.67780568,\n",
       "       50.08711978, 43.11753727, 39.63274602, 39.63274602, 37.89035039,\n",
       "       46.60232853, 44.16297465, 55.66278579, 36.14795476, 52.87495279,\n",
       "       44.16297465, 43.81449552, 58.79909792, 41.02666252, 45.20841202,\n",
       "       59.14757705, 52.17799453, 42.76905814, 44.8599329 , 33.01164263,\n",
       "       33.01164263, 45.55689115, 51.48103628, 34.75403826, 46.2538494 ,\n",
       "       38.93578776, 60.54149355, 34.40555913, 47.6477659 , 53.22343191,\n",
       "       43.81449552, 33.36012176, 55.66278579, 47.29928678, 52.87495279,\n",
       "       45.20841202, 36.84491301, 49.0416824 , 61.58693092, 64.72324305,\n",
       "       33.01164263, 37.89035039, 67.51107606, 51.48103628, 37.19339214,\n",
       "       47.6477659 , 62.28388918, 59.14757705, 56.70822317, 35.10251738,\n",
       "       56.70822317, 49.39016153, 34.05708001, 59.49605617, 67.85955518,\n",
       "       51.13255716, 60.19301442, 38.23882951, 39.98122514, 67.51107606,\n",
       "       53.22343191, 41.02666252, 60.54149355, 37.54187126, 62.6323683 ])"
      ]
     },
     "execution_count": 9,
     "metadata": {},
     "output_type": "execute_result"
    }
   ],
   "source": [
    "10 * (scores - scores.mean()) / scores.std() + 50"
   ]
  }
 ],
 "metadata": {
  "kernelspec": {
   "display_name": "Python 3",
   "language": "python",
   "name": "python3"
  },
  "language_info": {
   "codemirror_mode": {
    "name": "ipython",
    "version": 3
   },
   "file_extension": ".py",
   "mimetype": "text/x-python",
   "name": "python",
   "nbconvert_exporter": "python",
   "pygments_lexer": "ipython3",
   "version": "3.6.7"
  }
 },
 "nbformat": 4,
 "nbformat_minor": 2
}
